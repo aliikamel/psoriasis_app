{
 "cells": [
  {
   "cell_type": "code",
   "execution_count": null,
   "outputs": [],
   "source": [
    "import pandas as pd\n",
    "import numpy as np\n",
    "import matplotlib.pyplot as plt\n",
    "import seaborn as sns\n",
    "import os"
   ],
   "metadata": {
    "collapsed": false
   }
  },
  {
   "cell_type": "code",
   "execution_count": null,
   "outputs": [],
   "source": [
    "# Define paths\n",
    "project_dir = os.path.dirname(os.path.dirname(os.path.abspath('EDA')))\n",
    "file_path = os.path.join(project_dir, 'EDA')"
   ],
   "metadata": {
    "collapsed": false
   }
  },
  {
   "cell_type": "code",
   "execution_count": null,
   "outputs": [],
   "source": [
    "excel_file = pd.ExcelFile(f'{file_path}/full_patients_sim.xlsx')\n",
    "dfs = []"
   ],
   "metadata": {
    "collapsed": false
   }
  },
  {
   "cell_type": "code",
   "execution_count": null,
   "outputs": [],
   "source": [
    "# columns to delete\n",
    "to_delete = ['UV', 'R', 'IL1720', 'GF20', 'D20', 'D2A', 'TIME_UVB', 'T_MIN', 'R20', 'TNF20', 'DC_ACT', 'T2', 'N', 'DC_MIN', 'DESQ', 'TOTC_MIN', 'TOTC_MAX', 'D_MIN', 'D_MAX', 'DC_MAX', 'T_MAX']\n",
    "# clean and format each sheet\n",
    "for sheet in excel_file.sheet_names:\n",
    "  df = pd.read_excel(excel_file, sheet_name=sheet)\n",
    "  df.columns = [c.replace(\"'\", \"\").upper().replace(\" \", \"_\") for c in list(df.columns)]\n",
    "  for col in list(df.columns):\n",
    "    if col.startswith(\"DC_STIM\") or col  in to_delete:\n",
    "      df = df.drop([col], axis=1)\n",
    "  dfs.append(df)"
   ],
   "metadata": {
    "collapsed": false
   }
  },
  {
   "cell_type": "code",
   "execution_count": null,
   "outputs": [],
   "source": [
    "def identify_flare_weeks(df):\n",
    "    df_pasi = df[df['ACTUAL_PASI'].notna()]\n",
    "    clusters = df_pasi.index.to_series().diff().fillna(1).abs() > 1\n",
    "    cluster_starts = df_pasi.index[clusters].tolist()\n",
    "\n",
    "    # Include the start of the first cluster\n",
    "    if len(cluster_starts) == 0 or (len(cluster_starts) > 0 and cluster_starts[0] != df_pasi.index[0]):\n",
    "        cluster_starts.insert(0, df_pasi.index[0])\n",
    "\n",
    "    flare_weeks = []\n",
    "    for i in range(1, len(cluster_starts)):\n",
    "        week_start = cluster_starts[i-1]\n",
    "        week_end = cluster_starts[i]  # Include the beginning of the next cluster\n",
    "\n",
    "        if df.loc[week_end, 'ABNORMAL_READING'] == 1:\n",
    "            flare_weeks.append(i)\n",
    "\n",
    "    # Check last cluster separately\n",
    "    if len(cluster_starts) > 0:\n",
    "        last_week_start = cluster_starts[-1]\n",
    "        last_week_end = df_pasi.index[-1]\n",
    "        if df.loc[last_week_end, 'ABNORMAL_READING'] == 1:\n",
    "            flare_weeks.append(len(cluster_starts)-1)\n",
    "\n",
    "    return flare_weeks"
   ],
   "metadata": {
    "collapsed": false
   }
  },
  {
   "cell_type": "code",
   "execution_count": null,
   "outputs": [],
   "source": [
    "all_flare_weeks = []\n",
    "patients_with_flares = 0\n",
    "for i, df in enumerate(dfs):\n",
    "    flare_weeks = identify_flare_weeks(df)\n",
    "    all_flare_weeks.extend(flare_weeks)  # Collect all flare weeks in a flat list\n",
    "    if len(flare_weeks) != 0:\n",
    "      patients_with_flares += 1"
   ],
   "metadata": {
    "collapsed": false
   }
  },
  {
   "cell_type": "code",
   "execution_count": null,
   "outputs": [],
   "source": [
    "# Assuming all_flare_weeks contains week numbers with flares and does not start at 0\n",
    "if all_flare_weeks:  # Check if the list is not empty\n",
    "    min_week = min(all_flare_weeks)\n",
    "    max_week = max(all_flare_weeks)\n",
    "\n",
    "    # Plot a histogram of flare weeks\n",
    "    plt.figure(figsize=(12, 6))\n",
    "    # Setting the bins to start from min_week to max_week + 1\n",
    "    plt.hist(all_flare_weeks, bins=range(min_week, max_week + 2), edgecolor='black', alpha=0.7)\n",
    "    plt.title('Distribution of Flare Weeks Across All Patients')\n",
    "    plt.xlabel('Week Number')\n",
    "    plt.ylabel('Count of Flare Weeks')\n",
    "    plt.xticks(range(min_week, max_week + 1))  # Set ticks from the minimum week number to the maximum\n",
    "    plt.grid(True)\n",
    "    plt.show()\n",
    "else:\n",
    "    print(\"No flare weeks data available.\")"
   ],
   "metadata": {
    "collapsed": false
   }
  },
  {
   "cell_type": "code",
   "execution_count": null,
   "outputs": [],
   "source": [
    "def get_flare_intervals(df):\n",
    "    \"\"\"\n",
    "    Identifies weeks based on clusters of actual PASI readings and determines if they are flare weeks.\n",
    "    Returns a list of tuples for each week, where each tuple contains:\n",
    "    - start index of the week\n",
    "    - end index of the week\n",
    "    - boolean indicating if it is a flare week (True if flare, False otherwise)\n",
    "    \"\"\"\n",
    "    df_pasi = df[df['ACTUAL_PASI'].notna()]\n",
    "\n",
    "    # Identify the start index of each cluster\n",
    "    clusters = df_pasi.index.to_series().diff().fillna(1).abs() > 1\n",
    "    cluster_starts = df_pasi.index[clusters].tolist()\n",
    "\n",
    "    # Include the start of the first cluster\n",
    "    if len(cluster_starts) == 0 or (len(cluster_starts) > 0 and cluster_starts[0] != df_pasi.index[0]):\n",
    "        cluster_starts.insert(0, df_pasi.index[0])\n",
    "\n",
    "    # Collect weeks and check if they are flare weeks\n",
    "    week_intervals = []\n",
    "    for i in range(1, len(cluster_starts)):\n",
    "        week_start = cluster_starts[i-1]\n",
    "        week_end = cluster_starts[i]  # Include the beginning of the next cluster\n",
    "\n",
    "        # Determine if the week is a flare week\n",
    "        is_flare = df.loc[week_end, 'ABNORMAL_READING'] == 1\n",
    "        week_intervals.append((week_start, week_end, is_flare))\n",
    "\n",
    "    # Check last cluster separately\n",
    "    if len(cluster_starts) > 0:\n",
    "        last_week_start = cluster_starts[-1]\n",
    "        last_week_end = df_pasi.index[-1]\n",
    "        last_week_flare = df.loc[last_week_end, 'ABNORMAL_READING'] == 1\n",
    "        week_intervals.append((last_week_start, last_week_end, last_week_flare))\n",
    "\n",
    "    return week_intervals\n",
    "def extract_week_changes(df, variable):\n",
    "    \"\"\"Extract changes in the specified variable from the start to the end of each week.\"\"\"\n",
    "    week_info = get_flare_intervals(df)\n",
    "    week_changes = {}  # This will store changes by week number: {week_number: [list_of_changes]}\n",
    "\n",
    "    # Assuming each interval is a unique week and assigning week numbers sequentially\n",
    "    for index, (start, end, is_flare) in enumerate(week_info):\n",
    "        week_number = index + 1  # Start week numbering at 1\n",
    "        if not df.loc[start:end, variable].empty:\n",
    "            change = df.loc[end, variable] - df.loc[start, variable]\n",
    "            if week_number not in week_changes:\n",
    "                week_changes[week_number] = {'flare': [], 'non_flare': []}\n",
    "            if is_flare:\n",
    "                week_changes[week_number]['flare'].append(change)\n",
    "            else:\n",
    "                week_changes[week_number]['non_flare'].append(change)\n",
    "\n",
    "    return week_changes"
   ],
   "metadata": {
    "collapsed": false
   }
  },
  {
   "cell_type": "code",
   "execution_count": 50,
   "outputs": [],
   "source": [
    "def plot_average_change_between_flare_weeks(var_to_compare):\n",
    "    # Initialize data storage\n",
    "    all_changes = {}\n",
    "\n",
    "    for i, df in enumerate(dfs):\n",
    "        # Change \"DC\" to any column from the data\n",
    "        changes = extract_week_changes(df, var_to_compare)\n",
    "        for week, data in changes.items():\n",
    "            if week not in all_changes:\n",
    "                all_changes[week] = {'flare': [], 'non_flare': []}\n",
    "            all_changes[week]['flare'].extend(data['flare'])\n",
    "            all_changes[week]['non_flare'].extend(data['non_flare'])\n",
    "\n",
    "    # Calculate average change per week for better visualization\n",
    "    average_changes = {'flare': [], 'non_flare': []}\n",
    "    weeks = sorted(all_changes.keys())\n",
    "\n",
    "    for week in weeks:\n",
    "        if all_changes[week]['flare']:\n",
    "            average_changes['flare'].append(np.mean(all_changes[week]['flare']))\n",
    "        else:\n",
    "            average_changes['flare'].append(0)  # Append zero if no data available\n",
    "\n",
    "        if all_changes[week]['non_flare']:\n",
    "            average_changes['non_flare'].append(np.mean(all_changes[week]['non_flare']))\n",
    "        else:\n",
    "            average_changes['non_flare'].append(0)  # Append zero if no data available\n",
    "\n",
    "    # Setup the plot\n",
    "    fig, axes = plt.subplots(nrows=1, ncols=2, figsize=(12, 6), sharey=True)\n",
    "    titles = [f'Flare Week Changes of {var_to_compare}', f'Non-Flare Week Changes of {var_to_compare}']\n",
    "    colors = ['red', 'blue']\n",
    "\n",
    "    for i, key in enumerate(['flare', 'non_flare']):\n",
    "        ax = axes[i]\n",
    "        ax.bar(weeks, average_changes[key], color=colors[i])\n",
    "        ax.set_title(titles[i])\n",
    "        ax.set_xlabel('Week Index')\n",
    "        ax.set_ylabel(f'Average Change of {var_to_compare}')\n",
    "        ax.set_xticks(weeks)\n",
    "        ax.set_xticklabels([f\"{w}\" for w in weeks], rotation=45)\n",
    "\n",
    "    plt.tight_layout()\n",
    "    plt.show()"
   ],
   "metadata": {
    "collapsed": false
   }
  },
  {
   "cell_type": "code",
   "execution_count": 54,
   "outputs": [
    {
     "data": {
      "text/plain": "<Figure size 1200x600 with 2 Axes>",
      "image/png": "[encoded data removed]"
     },
     "metadata": {},
     "output_type": "display_data"
    }
   ],
   "source": [
    "# calling function to plot and compare avg weekly change of DC\n",
    "plot_average_change_between_flare_weeks(var_to_compare=\"A\")"
   ],
   "metadata": {
    "collapsed": false
   }
  }
 ],
 "metadata": {
  "kernelspec": {
   "display_name": "Python 3",
   "language": "python",
   "name": "python3"
  },
  "language_info": {
   "codemirror_mode": {
    "name": "ipython",
    "version": 2
   },
   "file_extension": ".py",
   "mimetype": "text/x-python",
   "name": "python",
   "nbconvert_exporter": "python",
   "pygments_lexer": "ipython2",
   "version": "2.7.6"
  }
 },
 "nbformat": 4,
 "nbformat_minor": 0
}
